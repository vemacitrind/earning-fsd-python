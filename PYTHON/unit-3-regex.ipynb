{
 "cells": [
  {
   "cell_type": "code",
   "execution_count": 1,
   "metadata": {
    "executionInfo": {
     "elapsed": 13,
     "status": "ok",
     "timestamp": 1754207327922,
     "user": {
      "displayName": "V Joshi",
      "userId": "06508668301662250170"
     },
     "user_tz": -330
    },
    "id": "s6PBriZA44te"
   },
   "outputs": [],
   "source": [
    "#Chapter 3 - REGEX"
   ]
  },
  {
   "cell_type": "code",
   "execution_count": 3,
   "metadata": {
    "colab": {
     "base_uri": "https://localhost:8080/"
    },
    "executionInfo": {
     "elapsed": 13,
     "status": "ok",
     "timestamp": 1754208049396,
     "user": {
      "displayName": "V Joshi",
      "userId": "06508668301662250170"
     },
     "user_tz": -330
    },
    "id": "ktrMyuYA52nW",
    "outputId": "7d7b84e6-32e6-439d-fa03-03e72bee3bce"
   },
   "outputs": [
    {
     "name": "stdout",
     "output_type": "stream",
     "text": [
      "Test case 1: ['7043792153']\n",
      "Test case 2: ['9999999999']\n",
      "Test case 3: []\n"
     ]
    }
   ],
   "source": [
    "# Write a python program to print Phone number from given string using regular expressions.\n",
    "import re\n",
    "\n",
    "pattern = r'\\b[6-9]\\d{9}\\b'\n",
    "\n",
    "test_cases = [\n",
    "    \"My number is 7043792153\",\n",
    "    \"Call 1234567890 or 9999999999\",\n",
    "    \"Fake numbers: 5432167890, 99887\",\n",
    "]\n",
    "\n",
    "for i, text in enumerate(test_cases, 1):\n",
    "    matches = re.findall(pattern, text)\n",
    "    print(f\"Test case {i}: {matches}\")"
   ]
  },
  {
   "cell_type": "code",
   "execution_count": 5,
   "metadata": {
    "colab": {
     "base_uri": "https://localhost:8080/"
    },
    "executionInfo": {
     "elapsed": 15,
     "status": "ok",
     "timestamp": 1754208103261,
     "user": {
      "displayName": "V Joshi",
      "userId": "06508668301662250170"
     },
     "user_tz": -330
    },
    "id": "Mx-W-PJE8paR",
    "outputId": "c1b67326-8e57-45be-acd0-67f933f21354"
   },
   "outputs": [
    {
     "name": "stdout",
     "output_type": "stream",
     "text": [
      "Test case 1: Valid ➤ Hello123\n",
      "Test case 2: Invalid ➤ Test_456\n",
      "Test case 3: Valid ➤ OnlyLetters\n",
      "Test case 4: Valid ➤ 123456\n",
      "Test case 5: Invalid ➤ Hello World!\n"
     ]
    }
   ],
   "source": [
    "# Write a Python program to check that a string contains only a certain set of characters (a-z, A-Z, 0-9) using regular expressions.\n",
    "import re\n",
    "\n",
    "pattern = r'^[a-zA-Z0-9]+$'\n",
    "\n",
    "test_cases = [\n",
    "    \"Hello123\",\n",
    "    \"Test_456\",\n",
    "    \"OnlyLetters\",\n",
    "    \"123456\",\n",
    "    \"Hello World!\",\n",
    "]\n",
    "\n",
    "for i, text in enumerate(test_cases, 1):\n",
    "    if re.fullmatch(pattern, text):\n",
    "        print(f\"Test case {i}: Valid ➤ {text}\")\n",
    "    else:\n",
    "        print(f\"Test case {i}: Invalid ➤ {text}\")\n"
   ]
  },
  {
   "cell_type": "code",
   "execution_count": 7,
   "metadata": {
    "colab": {
     "base_uri": "https://localhost:8080/"
    },
    "executionInfo": {
     "elapsed": 64,
     "status": "ok",
     "timestamp": 1754208151148,
     "user": {
      "displayName": "V Joshi",
      "userId": "06508668301662250170"
     },
     "user_tz": -330
    },
    "id": "1HhIMpiD82nb",
    "outputId": "82479e89-3678-4236-ff93-d620337b0331"
   },
   "outputs": [
    {
     "name": "stdout",
     "output_type": "stream",
     "text": [
      "Test case 1: Match ➤ a\n",
      "Test case 2: Match ➤ ab\n",
      "Test case 3: Match ➤ abbb\n",
      "Test case 4: No Match ➤ b\n",
      "Test case 5: No Match ➤ ba\n",
      "Test case 6: No Match ➤ aa\n"
     ]
    }
   ],
   "source": [
    "# Write a Python program using regular expressions that matches a string that has an a followed by zero or more b's.\n",
    "import re\n",
    "\n",
    "pattern = r'^ab*$'\n",
    "\n",
    "test_cases = [\n",
    "    \"a\",\n",
    "    \"ab\",\n",
    "    \"abbb\",\n",
    "    \"b\",\n",
    "    \"ba\",\n",
    "    \"aa\",\n",
    "]\n",
    "\n",
    "for i, text in enumerate(test_cases, 1):\n",
    "    if re.fullmatch(pattern, text):\n",
    "        print(f\"Test case {i}: Match ➤ {text}\")\n",
    "    else:\n",
    "        print(f\"Test case {i}: No Match ➤ {text}\")\n"
   ]
  },
  {
   "cell_type": "code",
   "execution_count": 9,
   "metadata": {
    "colab": {
     "base_uri": "https://localhost:8080/"
    },
    "executionInfo": {
     "elapsed": 154,
     "status": "ok",
     "timestamp": 1754208171590,
     "user": {
      "displayName": "V Joshi",
      "userId": "06508668301662250170"
     },
     "user_tz": -330
    },
    "id": "nhwdYPuM9CRT",
    "outputId": "0730f807-237e-45e8-8f1a-6b24c95127fb"
   },
   "outputs": [
    {
     "name": "stdout",
     "output_type": "stream",
     "text": [
      "Test case 1: Year: 2025, Month: 08, Day: 03\n",
      "Test case 2: Year: 1999, Month: 12, Day: 31\n",
      "Test case 3: No date found in URL ➤ https://domain.com/2024/7/4/independence-day\n",
      "Test case 4: No date found in URL ➤ https://no-date.com/article\n"
     ]
    }
   ],
   "source": [
    "# Write a Python program to extract year, month and date from an URL using regular expressions.\n",
    "import re\n",
    "\n",
    "pattern = r'/(\\d{4})/(\\d{2})/(\\d{2})/'\n",
    "\n",
    "test_cases = [\n",
    "    \"https://example.com/2025/08/03/article-title\",\n",
    "    \"http://site.org/blog/1999/12/31/new-year\",\n",
    "    \"https://domain.com/2024/7/4/independence-day\",\n",
    "    \"https://no-date.com/article\",\n",
    "]\n",
    "\n",
    "for i, url in enumerate(test_cases, 1):\n",
    "    match = re.search(pattern, url)\n",
    "    if match:\n",
    "        year, month, day = match.groups()\n",
    "        print(f\"Test case {i}: Year: {year}, Month: {month}, Day: {day}\")\n",
    "    else:\n",
    "        print(f\"Test case {i}: No date found in URL ➤ {url}\")\n"
   ]
  },
  {
   "cell_type": "code",
   "execution_count": 25,
   "metadata": {
    "colab": {
     "base_uri": "https://localhost:8080/"
    },
    "executionInfo": {
     "elapsed": 17,
     "status": "ok",
     "timestamp": 1754209107062,
     "user": {
      "displayName": "V Joshi",
      "userId": "06508668301662250170"
     },
     "user_tz": -330
    },
    "id": "NY3OX6iT9HPi",
    "outputId": "9d981bb0-5421-4294-bdf8-8dab9128bab8"
   },
   "outputs": [
    {
     "name": "stdout",
     "output_type": "stream",
     "text": [
      "Test case 1: Format valid ➤ 2025-08-03\n",
      "Test case 2: Format valid ➤ 1999-12-31\n",
      "Test case 3: Format valid ➤ 2024-02-29\n",
      "Test case 4: Invalid ➤ 2024-13-01\n",
      "Test case 5: Invalid ➤ 2024-00-10\n",
      "Test case 6: Invalid ➤ 2024-01-32\n",
      "Test case 7: Invalid ➤ invalid-date\n"
     ]
    }
   ],
   "source": [
    "# Write a Python program to convert a date of yyyy-mm-dd format to dd-mm-yyyy format using regular expressions.\n",
    "import re\n",
    "\n",
    "pattern = r'^\\d{4}-(0[1-9]|1[0-2])-(0[1-9]|[12][0-9]|3[01])$'\n",
    "\n",
    "test_cases = [\n",
    "    \"2025-08-03\",\n",
    "    \"1999-12-31\",\n",
    "    \"2024-02-29\",\n",
    "    \"2024-13-01\",\n",
    "    \"2024-00-10\",\n",
    "    \"2024-01-32\",\n",
    "    \"invalid-date\",\n",
    "]\n",
    "\n",
    "for i, date_str in enumerate(test_cases, 1):\n",
    "    if re.fullmatch(pattern, date_str):\n",
    "        print(f\"Test case {i}: Format valid ➤ {date_str}\")\n",
    "    else:\n",
    "        print(f\"Test case {i}: Invalid ➤ {date_str}\")\n"
   ]
  },
  {
   "cell_type": "code",
   "execution_count": 13,
   "metadata": {
    "colab": {
     "base_uri": "https://localhost:8080/"
    },
    "executionInfo": {
     "elapsed": 8,
     "status": "ok",
     "timestamp": 1754208291158,
     "user": {
      "displayName": "V Joshi",
      "userId": "06508668301662250170"
     },
     "user_tz": -330
    },
    "id": "l-VK87yD9dNI",
    "outputId": "714776c8-0476-41b9-8f7b-b47421d7fa8b"
   },
   "outputs": [
    {
     "name": "stdout",
     "output_type": "stream",
     "text": [
      "Test case 1: ['An', 'elephant', 'and', 'an', 'eagle', 'are', 'amazing', 'animals']\n",
      "Test case 2: ['Every', 'action', 'an', 'equal', 'and']\n",
      "Test case 3: ['apple', 'egg']\n"
     ]
    }
   ],
   "source": [
    "# Write a Python program to find all words starting with 'a' or 'e' in a given string using regular expressions.\n",
    "import re\n",
    "\n",
    "pattern = r'\\b[a|eA|E][a-zA-Z]*\\b'\n",
    "\n",
    "test_cases = [\n",
    "    \"An elephant and an eagle are amazing animals.\",\n",
    "    \"Every action has an equal and opposite reaction.\",\n",
    "    \"Banana, apple, egg, orange.\",\n",
    "]\n",
    "\n",
    "for i, text in enumerate(test_cases, 1):\n",
    "    matches = re.findall(pattern, text)\n",
    "    print(f\"Test case {i}: {matches}\")\n"
   ]
  },
  {
   "cell_type": "code",
   "execution_count": 15,
   "metadata": {
    "colab": {
     "base_uri": "https://localhost:8080/"
    },
    "executionInfo": {
     "elapsed": 10,
     "status": "ok",
     "timestamp": 1754208408919,
     "user": {
      "displayName": "V Joshi",
      "userId": "06508668301662250170"
     },
     "user_tz": -330
    },
    "id": "L-C-Zzcd9kfz",
    "outputId": "1ffaf2e0-082e-48f0-b89a-f44497e3f40b"
   },
   "outputs": [
    {
     "name": "stdout",
     "output_type": "stream",
     "text": [
      "Test case 1: 123 Main Rd.\n",
      "Test case 2: The Rd. to success is always under construction.\n",
      "Test case 3: Take the second Rd. on the left.\n",
      "Test case 4: No roads here.\n"
     ]
    }
   ],
   "source": [
    "# Write a Python program to abbreviate 'Road' as 'Rd.' in a given string using regular expressions.\n",
    "import re\n",
    "\n",
    "pattern = r'\\bRoad\\b'\n",
    "\n",
    "test_cases = [\n",
    "    \"123 Main Road\",\n",
    "    \"The Road to success is always under construction.\",\n",
    "    \"Take the second Road on the left.\",\n",
    "    \"No roads here.\",\n",
    "]\n",
    "\n",
    "for i, text in enumerate(test_cases, 1):\n",
    "    result = re.sub(pattern, \"Rd.\", text)\n",
    "    print(f\"Test case {i}: {result}\")\n"
   ]
  },
  {
   "cell_type": "code",
   "execution_count": 17,
   "metadata": {
    "colab": {
     "base_uri": "https://localhost:8080/"
    },
    "executionInfo": {
     "elapsed": 62,
     "status": "ok",
     "timestamp": 1754208474774,
     "user": {
      "displayName": "V Joshi",
      "userId": "06508668301662250170"
     },
     "user_tz": -330
    },
    "id": "0ZD3PS9e-BKt",
    "outputId": "1ee80241-e609-4077-aefc-b4299beaa493"
   },
   "outputs": [
    {
     "name": "stdout",
     "output_type": "stream",
     "text": [
      "Test case 1: Hello::world::How:are:you?\n",
      "Test case 2: Python:is:great::So:is:regex::right?\n",
      "Test case 3: No-separators-here\n"
     ]
    }
   ],
   "source": [
    "# Write a Python program to replace all occurrences of a space, comma, or dot with a colon using regular expressions.\n",
    "import re\n",
    "\n",
    "pattern = r'[ ,.]'\n",
    "\n",
    "test_cases = [\n",
    "    \"Hello, world. How are you?\",\n",
    "    \"Python is great. So is regex, right?\",\n",
    "    \"No-separators-here\",\n",
    "]\n",
    "\n",
    "for i, text in enumerate(test_cases, 1):\n",
    "    result = re.sub(pattern, \":\", text)\n",
    "    print(f\"Test case {i}: {result}\")\n"
   ]
  },
  {
   "cell_type": "code",
   "execution_count": 19,
   "metadata": {
    "colab": {
     "base_uri": "https://localhost:8080/"
    },
    "executionInfo": {
     "elapsed": 10,
     "status": "ok",
     "timestamp": 1754208717650,
     "user": {
      "displayName": "V Joshi",
      "userId": "06508668301662250170"
     },
     "user_tz": -330
    },
    "id": "2B_hz9OJ-RUX",
    "outputId": "9204dc45-6fc1-4e74-e07b-7cd7824d8837"
   },
   "outputs": [
    {
     "name": "stdout",
     "output_type": "stream",
     "text": [
      "Test case 1: camel_case\n",
      "Test case 2: simple_test_string\n",
      "Test case 3: another_example_here\n"
     ]
    }
   ],
   "source": [
    "# Write a Python program to convert a camel-case string to a snake-case string using regular expressions.\n",
    "import re\n",
    "\n",
    "pattern = r'([a-z])([A-Z])'\n",
    "\n",
    "test_cases = [\n",
    "    \"camelCase\",\n",
    "    \"simpleTestString\",\n",
    "    \"anotherExampleHere\",\n",
    "]\n",
    "\n",
    "for i, text in enumerate(test_cases, 1):\n",
    "    result = re.sub(pattern, r'\\1_\\2', text).lower()\n",
    "    print(f\"Test case {i}: {result}\")\n"
   ]
  },
  {
   "cell_type": "code",
   "execution_count": 21,
   "metadata": {
    "colab": {
     "base_uri": "https://localhost:8080/"
    },
    "executionInfo": {
     "elapsed": 16,
     "status": "ok",
     "timestamp": 1754208854047,
     "user": {
      "displayName": "V Joshi",
      "userId": "06508668301662250170"
     },
     "user_tz": -330
    },
    "id": "4taf4PHq_Mnx",
    "outputId": "aa3faac1-c023-4fc3-9ad2-7cfb456a0dc8"
   },
   "outputs": [
    {
     "name": "stdout",
     "output_type": "stream",
     "text": [
      "Found URLs:\n",
      "https://www.pandasrockstar.com\n",
      "http://www.google.com\n"
     ]
    }
   ],
   "source": [
    "# Write a Python Program to find all URLs from a given text. Consider URLs to be of only this format.\n",
    "import re\n",
    "\n",
    "pattern = r'https?://[a-zA-Z0-9.-]+\\.(com)'\n",
    "\n",
    "text = \"Hello all Students must visit at my website https://www.pandasrockstar.com for more information. Also, check out http://www.google.com\"\n",
    "\n",
    "matches = re.findall(pattern, text)\n",
    "urls = re.findall(r'https?://[a-zA-Z0-9.-]+\\.com', text)\n",
    "\n",
    "print(\"Found URLs:\")\n",
    "for url in urls:\n",
    "    print(url)\n"
   ]
  },
  {
   "cell_type": "code",
   "execution_count": 26,
   "metadata": {
    "colab": {
     "base_uri": "https://localhost:8080/"
    },
    "executionInfo": {
     "elapsed": 9,
     "status": "ok",
     "timestamp": 1754209118343,
     "user": {
      "displayName": "V Joshi",
      "userId": "06508668301662250170"
     },
     "user_tz": -330
    },
    "id": "o7iPVZ6e_t7U",
    "outputId": "7c5e5614-029f-480f-9840-c3de35288877"
   },
   "outputs": [
    {
     "name": "stdout",
     "output_type": "stream",
     "text": [
      "['quick', 'brown', 'jumps']\n"
     ]
    }
   ],
   "source": [
    "# Write a Python Program to find all five-character words in a string.\n",
    "import re\n",
    "\n",
    "pattern = r'\\b\\w{5}\\b'\n",
    "\n",
    "text = 'The quick brown fox jumps over the lazy dog.'\n",
    "\n",
    "matches = re.findall(pattern, text)\n",
    "print(matches)\n"
   ]
  },
  {
   "cell_type": "code",
   "execution_count": 27,
   "metadata": {
    "colab": {
     "base_uri": "https://localhost:8080/"
    },
    "executionInfo": {
     "elapsed": 22,
     "status": "ok",
     "timestamp": 1754209121445,
     "user": {
      "displayName": "V Joshi",
      "userId": "06508668301662250170"
     },
     "user_tz": -330
    },
    "id": "AGMTcMdwAua6",
    "outputId": "7f4a317d-ce7b-47cc-85e0-85192776db99"
   },
   "outputs": [
    {
     "name": "stdout",
     "output_type": "stream",
     "text": [
      "Test case 1: 192.168.1.1\n",
      "Test case 2: 255.255.255.255\n",
      "Test case 3: 0.0.0.0\n",
      "Test case 4: Invalid ➤ 256.100.50.25\n",
      "Test case 5: Invalid ➤ 192.168.1\n",
      "Test case 6: Invalid ➤ 192.168.1.1.1\n",
      "Test case 7: Invalid ➤ abc.def.ghi.jkl\n"
     ]
    }
   ],
   "source": [
    "# Write a Python program to find valid IPv4 addresses using one-line regex.\n",
    "import re\n",
    "\n",
    "pattern = r'^((25[0-5]|2[0-4]\\d|1\\d{2}|[1-9]?\\d)\\.){3}(25[0-5]|2[0-4]\\d|1\\d{2}|[1-9]?\\d)$'\n",
    "\n",
    "test_cases = [\n",
    "    \"192.168.1.1\",\n",
    "    \"255.255.255.255\",\n",
    "    \"0.0.0.0\",\n",
    "    \"256.100.50.25\",\n",
    "    \"192.168.1\",\n",
    "    \"192.168.1.1.1\",\n",
    "    \"abc.def.ghi.jkl\",\n",
    "]\n",
    "\n",
    "for i, ip in enumerate(test_cases, 1):\n",
    "    if re.fullmatch(pattern, ip):\n",
    "        print(f\"Test case {i}: {ip}\")\n",
    "    else:\n",
    "        print(f\"Test case {i}: Invalid ➤ {ip}\")\n"
   ]
  }
 ],
 "metadata": {
  "colab": {
   "authorship_tag": "ABX9TyPupOpvaNaOEHCmr9w9Z2Sh",
   "provenance": []
  },
  "kernelspec": {
   "display_name": "Python 3",
   "name": "python3"
  },
  "language_info": {
   "name": "python",
   "version": "3.10.17"
  }
 },
 "nbformat": 4,
 "nbformat_minor": 0
}
